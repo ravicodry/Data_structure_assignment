{
 "cells": [
  {
   "cell_type": "code",
   "execution_count": 1,
   "metadata": {},
   "outputs": [],
   "source": [
    "import numpy as np\n",
    "import pandas as pd"
   ]
  },
  {
   "cell_type": "markdown",
   "metadata": {},
   "source": [
    "#Q1. Alice has some cards with numbers written on them. She arranges the cards\n",
    "in decreasing order. She challenges Bob to pick out the card containing number\n",
    "120 by turning over as few cards as possible. Write a recursive function to help\n",
    "Bob locate the card containing number 120. Show assumptions and actions step\n",
    "by step. The numbers on card are as below.\n",
    "10 34 48 59 63 74 85 120 140\n",
    "Write an algorithm or programming code in any preferable language (using\n",
    "C/C++/Java/Python) and also give dry run for the same (Take any example\n",
    "of your choice for dry run)."
   ]
  },
  {
   "cell_type": "code",
   "execution_count": 2,
   "metadata": {},
   "outputs": [
    {
     "name": "stdout",
     "output_type": "stream",
     "text": [
      "element 34\n",
      "index of the number is 3\n",
      "element 67\n",
      "index of the number is 5\n",
      "we found the element\n",
      "Index of the required number is 6\n"
     ]
    }
   ],
   "source": [
    "def asc(lt):#define a ascending function\n",
    "    for i in range(0,len(lt)-1):# this loop is traverse to make one individual element to adjust to its exact position. \n",
    "        for j in range(len(lt)-1):#this loop is to compare vale between the elememt and change theirs position.\n",
    "            \n",
    "            if lt[j]>lt[j+1]:#t= temporary varibale, to swap the values\n",
    "                t=lt[j]\n",
    "                lt[j]=lt[j+1]\n",
    "                lt[j+1]=t\n",
    "#Below list is already in ascending order\n",
    "                \n",
    "#lt=[10,34,48,59,63,74,85,120,140]     #Given list in the question \n",
    "lt=[3,45,67,23,17,34,120]\n",
    "asc(lt)\n",
    "# The given question is to serach a element in the list.\n",
    "def found(lt,l,h,x): #Search function created.\n",
    "#l=lower bound,h=upper bound\n",
    "\n",
    "    if h>=l:\n",
    "       mid=(l+h)//2\n",
    "       \n",
    "       if lt[mid]==x:\n",
    "           print(\"we found the element\")\n",
    "           print(\"Index of the required number is {}\".format(mid))\n",
    "        \n",
    "       elif lt[mid]>x: # if mid value is greater than expected value,it means elemt is in above than this value,so we will change our upper bound\n",
    "           print(\"element {} \".format(lt[mid]))\n",
    "           print(\"index of the number is {}\".format(mid))\n",
    "           return found(lt,l,mid-1,x)\n",
    "       else:\n",
    "           print(\"element {}\".format(lt[mid]))\n",
    "           print(\"index of the number is {}\".format(mid))\n",
    "           return found(lt,mid+1,h,x)# same is the case here,in this case we will increase our lower bound \n",
    "       \n",
    "\n",
    "    else:\n",
    "        return -1\n",
    "x=120# element to be search in the list\n",
    "found(lt,0,len(lt)-1,x) # function call"
   ]
  },
  {
   "cell_type": "markdown",
   "metadata": {},
   "source": [
    "# Q2.1-Modify Binary Search such that integer overflow problem during calculation of mid=(high+low)/2 does not occur.\n",
    "\n",
    "Ans-This problem will not occur in python. because in python there is no concpet of number range. but still we can overcome this by modifying the mid value. "
   ]
  },
  {
   "cell_type": "code",
   "execution_count": 3,
   "metadata": {},
   "outputs": [
    {
     "name": "stdout",
     "output_type": "stream",
     "text": [
      "element 68\n",
      "index of the number is 3\n",
      "element 84\n",
      "index of the number is 5\n",
      "we found the element\n",
      "Index of the required number is 6\n"
     ]
    }
   ],
   "source": [
    "lt=[3,12,67,68,77,84,120] # Assume given array is sorted.\n",
    "\n",
    "# The given question is to serach a element in the list.\n",
    "def found(lt,l,h,x): #Search function created.\n",
    "#l=lower bound,h=upper bound\n",
    "\n",
    "    if h>=l:\n",
    "       mid=l+(h-l)//2 # This is get replaced by mid=(l+h)//2.\n",
    "       \n",
    "       if lt[mid]==x:\n",
    "           print(\"we found the element\")\n",
    "           print(\"Index of the required number is {}\".format(mid))\n",
    "        \n",
    "       elif lt[mid]>x: # if mid value is greater than expected value,It means element is above than this value,so we will change our upper bound\n",
    "           print(\"element {} \".format(lt[mid]))\n",
    "           print(\"index of the number is {}\".format(mid))\n",
    "           return found(lt,l,mid-1,x)\n",
    "       else:\n",
    "           print(\"element {}\".format(lt[mid]))\n",
    "           print(\"index of the number is {}\".format(mid))\n",
    "           return found(lt,mid+1,h,x)# same is the case here,In this case we will increase our lower bound \n",
    "       \n",
    "\n",
    "    else:\n",
    "        return -1\n",
    "x=120# element to be search in the list\n",
    "found(lt,0,len(lt)-1,x) # function call"
   ]
  },
  {
   "cell_type": "markdown",
   "metadata": {},
   "source": [
    "# Q 2.2-Given a group of n (index: 0-n-1) marbles, all marbles have a specific number based on their type. These marbles are stored in an array. Find the marble type [] which has occurred maximum times in an array."
   ]
  },
  {
   "cell_type": "code",
   "execution_count": 4,
   "metadata": {},
   "outputs": [
    {
     "name": "stdout",
     "output_type": "stream",
     "text": [
      "Marble type  is 3\n",
      "Max reported Marble type count is 5\n"
     ]
    }
   ],
   "source": [
    "\n",
    "lt=np.array([1,3,3,4,5,4,6,3,3,4,3,])# Let assume the given marble type\n",
    "max_count=0# create a varibale to get the maximum count of each type variable in array\n",
    "a=0\n",
    "for i in range(0,len(lt)):# outer loop traverse each marble type \n",
    "    count=0# assign count o in the starting of inner loop is that marble type count can update.\n",
    "    for j in range(0,len(lt)):# selected outer loop element were compare with each element of inner and count updated accordingly\n",
    "        if lt[j]==lt[i]:\n",
    "            count=count+1\n",
    "            \n",
    "    if count>max_count:# if count value exceed the max_count we will update the max_count\n",
    "                \n",
    "        max_count=count\n",
    "        a=lt[i]\n",
    "print(\"Marble type  is {}\".format(a))\n",
    "print(\"Max reported Marble type count is {}\".format(max_count))"
   ]
  },
  {
   "cell_type": "markdown",
   "metadata": {},
   "source": [
    "Time complexity of the above solution is  : O(n*2)\n",
    "\n",
    "This solution can also be done in the complexity of O(n Log n)"
   ]
  },
  {
   "cell_type": "markdown",
   "metadata": {},
   "source": [
    "# Q-2.3-Can the above solution be solved in less than O(nlogn) time complexity?"
   ]
  },
  {
   "cell_type": "markdown",
   "metadata": {},
   "source": [
    "Yes, It can be solved using hashing. We create a hash table and store elements and their frequency counts as key value pairs.\n",
    "\n",
    "In this approach time complexity will be O(N)."
   ]
  },
  {
   "cell_type": "code",
   "execution_count": 5,
   "metadata": {},
   "outputs": [],
   "source": [
    "def mostCommon(lt, n): \n",
    "  \n",
    "    # Insert all elements in Hash. \n",
    "    Hash = dict() \n",
    "    for i in range(n): \n",
    "        if arr[i] in Hash.keys(): \n",
    "            Hash[lt[i]] += 1\n",
    "        else: \n",
    "            Hash[lt[i]] = 1\n",
    "  \n",
    "    # find the max count \n",
    "    max_count = 0\n",
    "    s = -1\n",
    "    for i in Hash:  \n",
    "        if (max_count < Hash[i]):  \n",
    "            res = i \n",
    "            max_count = Hash[i] \n",
    "          \n",
    "    "
   ]
  },
  {
   "cell_type": "markdown",
   "metadata": {},
   "source": [
    "# Q-2.4-A Memory block with size of 4 GB having sentence [String] in each line needs to be arranged.\n",
    "What would be an efficient way to solve this problem?"
   ]
  },
  {
   "cell_type": "markdown",
   "metadata": {},
   "source": [
    "we can use any of this according to our need:\n",
    "\n",
    "    1- use virtual machine(since they a have power to manage all big data)\n",
    "    2- Increase your Main memory size.\n",
    "    \n",
    "If above two option not work,than we can use any of the below option.\n",
    "\n",
    "1- we can use divide and conqure, we can use merg sort.\n",
    "2-Chunking: Divide the data into chunks and process it one by one.\n",
    "3-Indexing: Indexing can also be used to process data one by one using the index value.\n",
    "    \n",
    "In big data analysis Map reduce function is used to process the data parallel ,we can try that also."
   ]
  },
  {
   "cell_type": "markdown",
   "metadata": {},
   "source": [
    "# END"
   ]
  },
  {
   "cell_type": "code",
   "execution_count": null,
   "metadata": {},
   "outputs": [],
   "source": []
  }
 ],
 "metadata": {
  "kernelspec": {
   "display_name": "Python 3",
   "language": "python",
   "name": "python3"
  },
  "language_info": {
   "codemirror_mode": {
    "name": "ipython",
    "version": 3
   },
   "file_extension": ".py",
   "mimetype": "text/x-python",
   "name": "python",
   "nbconvert_exporter": "python",
   "pygments_lexer": "ipython3",
   "version": "3.7.3"
  }
 },
 "nbformat": 4,
 "nbformat_minor": 2
}
